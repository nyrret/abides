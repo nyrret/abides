{
 "cells": [
  {
   "cell_type": "code",
   "execution_count": 1,
   "metadata": {},
   "outputs": [],
   "source": [
    "import pandas as pd\n",
    "import pickle"
   ]
  },
  {
   "cell_type": "code",
   "execution_count": 10,
   "metadata": {},
   "outputs": [],
   "source": [
    "new_version_df = pd.read_pickle('/Users/mihirkhambete/Desktop/abides_project/abides/history_updates_df.pkl')\n",
    "old_version_df = pd.read_pickle('/Users/mihirkhambete/Desktop/abides_original_test_correctness/abides/history_updates_df.pkl')"
   ]
  },
  {
   "cell_type": "code",
   "execution_count": 11,
   "metadata": {},
   "outputs": [
    {
     "data": {
      "text/html": [
       "<div>\n",
       "<style scoped>\n",
       "    .dataframe tbody tr th:only-of-type {\n",
       "        vertical-align: middle;\n",
       "    }\n",
       "\n",
       "    .dataframe tbody tr th {\n",
       "        vertical-align: top;\n",
       "    }\n",
       "\n",
       "    .dataframe thead th {\n",
       "        text-align: right;\n",
       "    }\n",
       "</style>\n",
       "<table border=\"1\" class=\"dataframe\">\n",
       "  <thead>\n",
       "    <tr style=\"text-align: right;\">\n",
       "      <th></th>\n",
       "      <th>action_quantity</th>\n",
       "      <th>action_time</th>\n",
       "      <th>action_type</th>\n",
       "      <th>artificial_idx</th>\n",
       "      <th>history_len</th>\n",
       "      <th>num_prev_calls_get_recent_hist</th>\n",
       "      <th>order_id</th>\n",
       "    </tr>\n",
       "  </thead>\n",
       "  <tbody>\n",
       "    <tr>\n",
       "      <td>0</td>\n",
       "      <td>31</td>\n",
       "      <td>2020-06-03 09:30:09.946074451</td>\n",
       "      <td>transaction</td>\n",
       "      <td>0</td>\n",
       "      <td>2474</td>\n",
       "      <td>1</td>\n",
       "      <td>5026</td>\n",
       "    </tr>\n",
       "    <tr>\n",
       "      <td>1</td>\n",
       "      <td>37</td>\n",
       "      <td>2020-06-03 09:30:09.726352073</td>\n",
       "      <td>transaction</td>\n",
       "      <td>1</td>\n",
       "      <td>2474</td>\n",
       "      <td>1</td>\n",
       "      <td>5025</td>\n",
       "    </tr>\n",
       "    <tr>\n",
       "      <td>2</td>\n",
       "      <td>26</td>\n",
       "      <td>2020-06-03 09:30:09.946074451</td>\n",
       "      <td>transaction</td>\n",
       "      <td>1</td>\n",
       "      <td>2474</td>\n",
       "      <td>1</td>\n",
       "      <td>5025</td>\n",
       "    </tr>\n",
       "    <tr>\n",
       "      <td>3</td>\n",
       "      <td>29</td>\n",
       "      <td>2020-06-03 09:30:09.066436200</td>\n",
       "      <td>transaction</td>\n",
       "      <td>2</td>\n",
       "      <td>2474</td>\n",
       "      <td>1</td>\n",
       "      <td>5024</td>\n",
       "    </tr>\n",
       "    <tr>\n",
       "      <td>4</td>\n",
       "      <td>46</td>\n",
       "      <td>2020-06-03 09:30:08.920039177</td>\n",
       "      <td>transaction</td>\n",
       "      <td>3</td>\n",
       "      <td>2474</td>\n",
       "      <td>1</td>\n",
       "      <td>5023</td>\n",
       "    </tr>\n",
       "  </tbody>\n",
       "</table>\n",
       "</div>"
      ],
      "text/plain": [
       "  action_quantity                   action_time  action_type artificial_idx  \\\n",
       "0              31 2020-06-03 09:30:09.946074451  transaction              0   \n",
       "1              37 2020-06-03 09:30:09.726352073  transaction              1   \n",
       "2              26 2020-06-03 09:30:09.946074451  transaction              1   \n",
       "3              29 2020-06-03 09:30:09.066436200  transaction              2   \n",
       "4              46 2020-06-03 09:30:08.920039177  transaction              3   \n",
       "\n",
       "  history_len num_prev_calls_get_recent_hist order_id  \n",
       "0        2474                              1     5026  \n",
       "1        2474                              1     5025  \n",
       "2        2474                              1     5025  \n",
       "3        2474                              1     5024  \n",
       "4        2474                              1     5023  "
      ]
     },
     "execution_count": 11,
     "metadata": {},
     "output_type": "execute_result"
    }
   ],
   "source": [
    "new_version_df.head()"
   ]
  },
  {
   "cell_type": "code",
   "execution_count": 12,
   "metadata": {},
   "outputs": [
    {
     "data": {
      "text/html": [
       "<div>\n",
       "<style scoped>\n",
       "    .dataframe tbody tr th:only-of-type {\n",
       "        vertical-align: middle;\n",
       "    }\n",
       "\n",
       "    .dataframe tbody tr th {\n",
       "        vertical-align: top;\n",
       "    }\n",
       "\n",
       "    .dataframe thead th {\n",
       "        text-align: right;\n",
       "    }\n",
       "</style>\n",
       "<table border=\"1\" class=\"dataframe\">\n",
       "  <thead>\n",
       "    <tr style=\"text-align: right;\">\n",
       "      <th></th>\n",
       "      <th>action_quantity</th>\n",
       "      <th>action_time</th>\n",
       "      <th>action_type</th>\n",
       "      <th>artificial_idx</th>\n",
       "      <th>history_len</th>\n",
       "      <th>num_prev_calls_get_recent_hist</th>\n",
       "      <th>order_id</th>\n",
       "    </tr>\n",
       "  </thead>\n",
       "  <tbody>\n",
       "    <tr>\n",
       "      <td>0</td>\n",
       "      <td>31</td>\n",
       "      <td>2020-06-03 09:30:09.946074451</td>\n",
       "      <td>transaction</td>\n",
       "      <td>0</td>\n",
       "      <td>2474</td>\n",
       "      <td>0</td>\n",
       "      <td>5026</td>\n",
       "    </tr>\n",
       "    <tr>\n",
       "      <td>1</td>\n",
       "      <td>37</td>\n",
       "      <td>2020-06-03 09:30:09.726352073</td>\n",
       "      <td>transaction</td>\n",
       "      <td>1</td>\n",
       "      <td>2474</td>\n",
       "      <td>0</td>\n",
       "      <td>5025</td>\n",
       "    </tr>\n",
       "    <tr>\n",
       "      <td>2</td>\n",
       "      <td>26</td>\n",
       "      <td>2020-06-03 09:30:09.946074451</td>\n",
       "      <td>transaction</td>\n",
       "      <td>1</td>\n",
       "      <td>2474</td>\n",
       "      <td>0</td>\n",
       "      <td>5025</td>\n",
       "    </tr>\n",
       "    <tr>\n",
       "      <td>3</td>\n",
       "      <td>29</td>\n",
       "      <td>2020-06-03 09:30:09.066436200</td>\n",
       "      <td>transaction</td>\n",
       "      <td>2</td>\n",
       "      <td>2474</td>\n",
       "      <td>0</td>\n",
       "      <td>5024</td>\n",
       "    </tr>\n",
       "    <tr>\n",
       "      <td>4</td>\n",
       "      <td>46</td>\n",
       "      <td>2020-06-03 09:30:08.920039177</td>\n",
       "      <td>transaction</td>\n",
       "      <td>3</td>\n",
       "      <td>2474</td>\n",
       "      <td>0</td>\n",
       "      <td>5023</td>\n",
       "    </tr>\n",
       "  </tbody>\n",
       "</table>\n",
       "</div>"
      ],
      "text/plain": [
       "  action_quantity                   action_time  action_type artificial_idx  \\\n",
       "0              31 2020-06-03 09:30:09.946074451  transaction              0   \n",
       "1              37 2020-06-03 09:30:09.726352073  transaction              1   \n",
       "2              26 2020-06-03 09:30:09.946074451  transaction              1   \n",
       "3              29 2020-06-03 09:30:09.066436200  transaction              2   \n",
       "4              46 2020-06-03 09:30:08.920039177  transaction              3   \n",
       "\n",
       "  history_len num_prev_calls_get_recent_hist order_id  \n",
       "0        2474                              0     5026  \n",
       "1        2474                              0     5025  \n",
       "2        2474                              0     5025  \n",
       "3        2474                              0     5024  \n",
       "4        2474                              0     5023  "
      ]
     },
     "execution_count": 12,
     "metadata": {},
     "output_type": "execute_result"
    }
   ],
   "source": [
    "old_version_df.head()"
   ]
  },
  {
   "cell_type": "code",
   "execution_count": 13,
   "metadata": {},
   "outputs": [
    {
     "data": {
      "text/plain": [
       "True"
      ]
     },
     "execution_count": 13,
     "metadata": {},
     "output_type": "execute_result"
    }
   ],
   "source": [
    "old_version_df.equals(old_version_df)"
   ]
  },
  {
   "cell_type": "code",
   "execution_count": 14,
   "metadata": {},
   "outputs": [
    {
     "data": {
      "text/plain": [
       "(1758921, 7)"
      ]
     },
     "execution_count": 14,
     "metadata": {},
     "output_type": "execute_result"
    }
   ],
   "source": [
    "old_version_df.shape"
   ]
  },
  {
   "cell_type": "code",
   "execution_count": null,
   "metadata": {},
   "outputs": [],
   "source": []
  }
 ],
 "metadata": {
  "kernelspec": {
   "display_name": "Python 3",
   "language": "python",
   "name": "python3"
  },
  "language_info": {
   "codemirror_mode": {
    "name": "ipython",
    "version": 3
   },
   "file_extension": ".py",
   "mimetype": "text/x-python",
   "name": "python",
   "nbconvert_exporter": "python",
   "pygments_lexer": "ipython3",
   "version": "3.7.4"
  }
 },
 "nbformat": 4,
 "nbformat_minor": 2
}
